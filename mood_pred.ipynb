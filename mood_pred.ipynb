{
  "nbformat": 4,
  "nbformat_minor": 0,
  "metadata": {
    "colab": {
      "name": "mood_pred.ipynb",
      "provenance": [],
      "include_colab_link": true
    },
    "kernelspec": {
      "name": "python3",
      "display_name": "Python 3"
    }
  },
  "cells": [
    {
      "cell_type": "markdown",
      "metadata": {
        "id": "view-in-github",
        "colab_type": "text"
      },
      "source": [
        "<a href=\"https://colab.research.google.com/github/deckel28/music-mood/blob/master/mood_pred.ipynb\" target=\"_parent\"><img src=\"https://colab.research.google.com/assets/colab-badge.svg\" alt=\"Open In Colab\"/></a>"
      ]
    },
    {
      "cell_type": "code",
      "metadata": {
        "id": "bjjRlu-9DaDm",
        "colab_type": "code",
        "colab": {}
      },
      "source": [
        "from google.colab import drive\n",
        "drive.mount('/content/drive', force_remount=True)"
      ],
      "execution_count": null,
      "outputs": []
    },
    {
      "cell_type": "code",
      "metadata": {
        "id": "Uc1GU777DkXK",
        "colab_type": "code",
        "colab": {}
      },
      "source": [
        "import os\n",
        "import pickle\n",
        "import h5py\n",
        "import numpy as np\n",
        "from numpy import savetxt\n",
        "from numpy import genfromtxt\n",
        "from numpy import random\n",
        "from random import choices\n",
        "os.environ['TF_CPP_MIN_LOG_LEVEL'] = '3'\n",
        "from tensorflow import keras\n",
        "import matplotlib.pyplot as plt\n",
        "import csv\n",
        "\n",
        "from keras import backend\n",
        "from keras.models import Sequential\n",
        "from keras.layers import Dense, Flatten\n",
        "from keras.layers import Conv2D, MaxPooling2D, LSTM, Dropout, BatchNormalization\n",
        "from sklearn import metrics\n",
        "from sklearn.model_selection import train_test_split\n",
        "from sklearn.metrics import fbeta_score\n",
        "from sklearn.metrics import accuracy_score, hamming_loss\n",
        "from sklearn.metrics import multilabel_confusion_matrix"
      ],
      "execution_count": null,
      "outputs": []
    },
    {
      "cell_type": "code",
      "metadata": {
        "id": "Wg10gtAPDklg",
        "colab_type": "code",
        "colab": {}
      },
      "source": [
        "os.chdir('/content/drive/My Drive')\n",
        "os.listdir()"
      ],
      "execution_count": null,
      "outputs": []
    },
    {
      "cell_type": "code",
      "metadata": {
        "id": "niwcu7V2Dk4u",
        "colab_type": "code",
        "colab": {}
      },
      "source": [
        "trainY = genfromtxt('Datasets/encoded_train.csv', delimiter=',')\n",
        "h5f = h5py.File('Datasets/feats_train.h5','r')\n",
        "trainX = h5f['dataset'][:]\n",
        "h5f.close()\n",
        "\n",
        "valY = genfromtxt('Datasets/encoded_val.csv', delimiter=',')\n",
        "h5f = h5py.File('Datasets/feats_val.h5','r')\n",
        "valX = h5f['dataset'][:]\n",
        "h5f.close()\n",
        "\n",
        "testY = genfromtxt('Datasets/encoded_test.csv', delimiter=',')\n",
        "h5f = h5py.File('Datasets/feats_test.h5','r')\n",
        "testX = h5f['dataset'][:]\n",
        "h5f.close()"
      ],
      "execution_count": null,
      "outputs": []
    },
    {
      "cell_type": "code",
      "metadata": {
        "id": "GHmXuTIYzhYi",
        "colab_type": "code",
        "colab": {
          "base_uri": "https://localhost:8080/",
          "height": 67
        },
        "outputId": "fc3456db-74cb-4389-e287-a7b76e78151f"
      },
      "source": [
        "print('trainX-', trainX.shape, '   trainY- ', trainY.shape)\n",
        "print('valX-', valX.shape, '      valY- ', valY.shape)\n",
        "print('testX-', testX.shape, '     testY- ', testY.shape)"
      ],
      "execution_count": null,
      "outputs": [
        {
          "output_type": "stream",
          "text": [
            "trainX- (2802, 20, 9762)    trainY-  (2802, 8)\n",
            "valX- (346, 20, 9762)       valY-  (346, 8)\n",
            "testX- (312, 20, 9762)      testY-  (312, 8)\n"
          ],
          "name": "stdout"
        }
      ]
    },
    {
      "cell_type": "code",
      "metadata": {
        "id": "dnZ4zGu3zh54",
        "colab_type": "code",
        "colab": {
          "base_uri": "https://localhost:8080/",
          "height": 34
        },
        "outputId": "da81d084-1484-480d-d7c5-b1bdd694a77a"
      },
      "source": [
        "trainX0 = np.expand_dims(trainX, axis=-1)\n",
        "valX0 = np.expand_dims(valX, axis=-1)\n",
        "testX0 = np.expand_dims(testX, axis=-1)\n",
        "\n",
        "IN_SHAPE = trainX0.shape[1:]\n",
        "print(IN_SHAPE)"
      ],
      "execution_count": null,
      "outputs": [
        {
          "output_type": "stream",
          "text": [
            "(20, 9762, 1)\n"
          ],
          "name": "stdout"
        }
      ]
    },
    {
      "cell_type": "code",
      "metadata": {
        "id": "CmoWiDCFzmlK",
        "colab_type": "code",
        "colab": {
          "base_uri": "https://localhost:8080/",
          "height": 50
        },
        "outputId": "57d0bbc4-ef00-4d44-bb76-b8b60ad46d73"
      },
      "source": [
        "print(trainX0.shape, valX0.shape, testX0.shape)\n",
        "print(trainY.shape, valY.shape, testY.shape)"
      ],
      "execution_count": null,
      "outputs": [
        {
          "output_type": "stream",
          "text": [
            "(2802, 20, 9762, 1) (346, 20, 9762, 1) (312, 20, 9762, 1)\n",
            "(2802, 8) (346, 8) (312, 8)\n"
          ],
          "name": "stdout"
        }
      ]
    },
    {
      "cell_type": "code",
      "metadata": {
        "id": "uKvfh5EJWVdv",
        "colab_type": "code",
        "colab": {
          "base_uri": "https://localhost:8080/",
          "height": 67
        },
        "outputId": "4688e9da-a132-48fa-aadf-81d0d3cf65f4"
      },
      "source": [
        "print(np.sum(trainY, axis=0))\n",
        "print(np.sum(valY, axis=0))\n",
        "print(np.sum(testY, axis=0))"
      ],
      "execution_count": null,
      "outputs": [
        {
          "output_type": "stream",
          "text": [
            "[2444. 1220.    8.  873.  139.  638.   23.  338.]\n",
            "[297. 157.   1. 101.  22.  85.   2.  45.]\n",
            "[268. 151.   0.  78.  10.  73.   2.  36.]\n"
          ],
          "name": "stdout"
        }
      ]
    },
    {
      "cell_type": "code",
      "metadata": {
        "id": "Z4Nvq7400OSU",
        "colab_type": "code",
        "colab": {}
      },
      "source": [
        "def fbeta(y_true, y_pred, beta=2):\n",
        "  # clip predictions\n",
        "  y_pred = backend.clip(y_pred, 0, 1)\n",
        "  # calculate elements\n",
        "  tp = backend.sum(backend.round(backend.clip(y_true * y_pred, 0, 1)), axis=1)\n",
        "  fp = backend.sum(backend.round(backend.clip(y_pred - y_true, 0, 1)), axis=1)\n",
        "  fn = backend.sum(backend.round(backend.clip(y_true - y_pred, 0, 1)), axis=1)\n",
        "  # calculate precision\n",
        "  p = tp / (tp + fp + backend.epsilon())\n",
        "  # calculate recall\n",
        "  r = tp / (tp + fn + backend.epsilon())\n",
        "  # calculate fbeta, averaged across each class\n",
        "  bb = beta ** 2\n",
        "  fbeta_score = backend.mean((1 + bb) * (p * r) / (bb * p + r + backend.epsilon()))\n",
        "  return fbeta_score"
      ],
      "execution_count": null,
      "outputs": []
    },
    {
      "cell_type": "code",
      "metadata": {
        "id": "spqw60bgz2jS",
        "colab_type": "code",
        "colab": {}
      },
      "source": [
        "def predict_mood(model, dataX, thresholds):\n",
        "    predictions = model.predict(dataX)\n",
        "    y_pred = np.zeros((dataX.shape[0], 8))\n",
        "    for i in range(dataX.shape[0]):\n",
        "        for j in range(8):\n",
        "            y_pred[i][j] = (predictions[i][j] > thresholds[j][1])\n",
        "\n",
        "    return y_pred, predictions"
      ],
      "execution_count": null,
      "outputs": []
    },
    {
      "cell_type": "code",
      "metadata": {
        "id": "qD_l7Cs0D_Kf",
        "colab_type": "code",
        "colab": {}
      },
      "source": [
        "def multilabel_cm(trues, preds):\n",
        "    shape = trues.shape[0]\n",
        "    cm = np.zeros((8, 8), dtype=int)\n",
        "    for i in range(shape):\n",
        "        for j in range(8):\n",
        "            for k in range(8):\n",
        "                if trues[i][j] == 1 and preds[i][k] == 1:\n",
        "                    cm[j][k] = cm[j][k] + 1\n",
        "    return cm"
      ],
      "execution_count": null,
      "outputs": []
    },
    {
      "cell_type": "code",
      "metadata": {
        "id": "jbWWctLuEOSF",
        "colab_type": "code",
        "colab": {}
      },
      "source": [
        "def classification_report(trues, preds, thresholds, cm):\n",
        "    fn = np.zeros((8,))\n",
        "    fp = np.zeros((8,))\n",
        "    tp = np.zeros((8,))\n",
        "    print('CLASSIFICATION REPORT')\n",
        "    print('---------------------')\n",
        "    print(' ')\n",
        "\n",
        "    cm = multilabel_cm(trues, preds)\n",
        "    fps = np.sum(cm, axis=0)\n",
        "    fns = np.sum(cm, axis=1)\n",
        "    occ = np.sum(trues, axis=0)\n",
        "    report = np.zeros((8, 4))\n",
        "\n",
        "    for i in range(8):\n",
        "        tp[i] = cm[i][i]\n",
        "        fp[i] = fps[i] - cm[i][i]\n",
        "        fn[i] = fns[i] - cm[i][i]\n",
        "\n",
        "        precision = tp[i] / (tp[i] + fp[i])\n",
        "        report[i][0] = precision\n",
        "        recall = tp[i] / (tp[i] + fn[i])\n",
        "        report[i][1] = recall\n",
        "        f1score = 2 * precision * recall / (precision + recall)\n",
        "        report[i][2] = f1score\n",
        "        support = occ[i]\n",
        "        report[i][3] = support\n",
        "\n",
        "        print(thresholds[i][0])\n",
        "        print('.....')\n",
        "        print('Precision:', precision)\n",
        "        print('Recall:', recall)\n",
        "        print('F1-Score:', f1score)\n",
        "        print('Support:', support)\n",
        "        print('')\n",
        "        print('')\n",
        "\n",
        "    return report\n"
      ],
      "execution_count": null,
      "outputs": []
    },
    {
      "cell_type": "code",
      "metadata": {
        "id": "NMXcSw1AXsPu",
        "colab_type": "code",
        "colab": {}
      },
      "source": [
        "model = keras.models.load_model('Models/model1.h5')\n",
        "# model.summary()"
      ],
      "execution_count": null,
      "outputs": []
    },
    {
      "cell_type": "code",
      "metadata": {
        "id": "Se-iN0EgG53E",
        "colab_type": "code",
        "colab": {}
      },
      "source": [
        "thresholds = [['Happy', 0.8],\n",
        "                ['Excited', 0.5],\n",
        "                ['Frantic', 0.5],\n",
        "                ['Anxious/Sad', 0.3],\n",
        "                ['Anger', 0.5],\n",
        "                ['Calm', 0.22],\n",
        "                ['Tired', 0.5],\n",
        "                ['Sensual', 0.1]]\n",
        "\n",
        "tags = ['Happy', 'Excited', 'Frantic', 'Anxious/Sad', 'Anger', 'Calm', 'Tired', 'Sensual']"
      ],
      "execution_count": null,
      "outputs": []
    },
    {
      "cell_type": "code",
      "metadata": {
        "id": "ETafBcIV1QOJ",
        "colab_type": "code",
        "colab": {}
      },
      "source": [
        "accuracy = accuracy_score(trainY, y_pred)\n",
        "print('Accuracy: %f' % accuracy)\n",
        "\n",
        "f1 = fbeta(trainY, y_pred)\n",
        "print('F1 score: %f' % f1)\n",
        "\n",
        "hl = hamming_loss(trainY, y_pred)\n",
        "print('Hamming Loss: %f' % hl)"
      ],
      "execution_count": null,
      "outputs": []
    },
    {
      "cell_type": "code",
      "metadata": {
        "id": "ibCts4TA0liV",
        "colab_type": "code",
        "colab": {}
      },
      "source": [
        "y_pred, y_pred_val = predict_mood(model, trainX0, thresholds)\n",
        "cm = multilabel_cm(trainY, y_pred.astype(np.float))\n",
        "report = classification_report(trainY, y_pred.astype(np.float), thresholds, cm)"
      ],
      "execution_count": null,
      "outputs": []
    },
    {
      "cell_type": "code",
      "metadata": {
        "id": "r_Iputve06Ky",
        "colab_type": "code",
        "colab": {
          "base_uri": "https://localhost:8080/",
          "height": 134
        },
        "outputId": "8e11d079-e8a3-400f-f22c-8c12fa2a7f44"
      },
      "source": [
        "tags1 = np.array(tags).reshape((1, 8))\n",
        "y_pred1 = np.vstack((tags1, y_pred))\n",
        "print(y_pred1)"
      ],
      "execution_count": null,
      "outputs": [
        {
          "output_type": "stream",
          "text": [
            "[['Happy' 'Excited' 'Frantic' ... 'Calm' 'Tired' 'Sensual']\n",
            " ['1.0' '1.0' '0.0' ... '0.0' '0.0' '0.0']\n",
            " ['1.0' '0.0' '0.0' ... '1.0' '0.0' '0.0']\n",
            " ...\n",
            " ['1.0' '0.0' '0.0' ... '0.0' '0.0' '0.0']\n",
            " ['0.0' '1.0' '0.0' ... '1.0' '0.0' '0.0']\n",
            " ['1.0' '0.0' '0.0' ... '0.0' '0.0' '0.0']]\n"
          ],
          "name": "stdout"
        }
      ]
    },
    {
      "cell_type": "code",
      "metadata": {
        "id": "NYszep_p0-AX",
        "colab_type": "code",
        "colab": {}
      },
      "source": [
        "cm1 = np.vstack((tags, cm))\n",
        "print('-------- Confusion Matrix-----------')\n",
        "print(cm1)\n",
        "savetxt('Results/cm.csv', cm1, delimiter=',', fmt='%s')"
      ],
      "execution_count": null,
      "outputs": []
    },
    {
      "cell_type": "code",
      "metadata": {
        "id": "8_0fI_Zh1LHy",
        "colab_type": "code",
        "colab": {}
      },
      "source": [
        "report = np.vstack((['Precision', 'Recall', 'F1-Score', 'Support'], report))\n",
        "x = np.array(thresholds)\n",
        "names = np.append(['Label'], x[:, 0])\n",
        "names = names.reshape(9, 1)\n",
        "report = np.hstack((names, report))\n",
        "print(report)\n",
        "savetxt('Results/report.csv', report, delimiter=',', fmt='%s')"
      ],
      "execution_count": null,
      "outputs": []
    },
    {
      "cell_type": "code",
      "metadata": {
        "id": "7pu8QL3i1PoW",
        "colab_type": "code",
        "colab": {
          "base_uri": "https://localhost:8080/",
          "height": 545
        },
        "outputId": "78207b3b-212c-4f5c-91c1-e648bdf2458f"
      },
      "source": [
        "for x in range(2):\n",
        "    fig, axs = plt.subplots(1, 4)\n",
        "    for i in range(4):\n",
        "        axs[i].boxplot(y_pred_val[1:, i + 4 * x].astype(np.float), whis=100)\n",
        "        axs[i].set_title(thresholds[i + 4 * x][0])\n",
        "    plt.savefig('Results/train_box_' + str(x) + '.png')"
      ],
      "execution_count": null,
      "outputs": [
        {
          "output_type": "display_data",
          "data": {
            "image/png": "[encoded data removed]",
            "text/plain": [
              "<Figure size 432x288 with 4 Axes>"
            ]
          },
          "metadata": {
            "tags": [],
            "needs_background": "light"
          }
        },
        {
          "output_type": "display_data",
          "data": {
            "image/png": "[encoded data removed]",
            "text/plain": [
              "<Figure size 432x288 with 4 Axes>"
            ]
          },
          "metadata": {
            "tags": [],
            "needs_background": "light"
          }
        }
      ]
    }
  ]
}